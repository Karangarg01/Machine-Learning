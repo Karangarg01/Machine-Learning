{
 "cells": [
  {
   "cell_type": "code",
   "execution_count": 2,
   "id": "a0616fed-d7af-4d96-9f18-6ad9149d389f",
   "metadata": {
    "scrolled": true
   },
   "outputs": [
    {
     "data": {
      "text/plain": [
       "['Captain',\n",
       " 'america',\n",
       " 'ate',\n",
       " '100',\n",
       " '$',\n",
       " 'of',\n",
       " 'samosa',\n",
       " '.',\n",
       " 'Then',\n",
       " 'he',\n",
       " 'said',\n",
       " 'I',\n",
       " 'can',\n",
       " 'do',\n",
       " 'this',\n",
       " 'all',\n",
       " 'day']"
      ]
     },
     "execution_count": 2,
     "metadata": {},
     "output_type": "execute_result"
    }
   ],
   "source": [
    "import spacy\n",
    "\n",
    "nlp = spacy.blank('en')\n",
    "doc = nlp(\"Captain america ate 100$ of samosa. Then he said I can do this all day\")\n",
    "\n",
    "tokens = [token.text for token in doc]\n",
    "tokens"
   ]
  },
  {
   "cell_type": "code",
   "execution_count": 3,
   "id": "a8dfb22f-bee8-470b-bffd-f30f789621cb",
   "metadata": {},
   "outputs": [
    {
     "data": {
      "text/plain": [
       "[]"
      ]
     },
     "execution_count": 3,
     "metadata": {},
     "output_type": "execute_result"
    }
   ],
   "source": [
    "nlp.pipe_names"
   ]
  },
  {
   "cell_type": "code",
   "execution_count": 5,
   "id": "9979e7d8-c4d6-4aff-80b8-0c43a9eee9c6",
   "metadata": {},
   "outputs": [
    {
     "data": {
      "text/plain": [
       "['tok2vec', 'tagger', 'parser', 'attribute_ruler', 'lemmatizer', 'ner']"
      ]
     },
     "execution_count": 5,
     "metadata": {},
     "output_type": "execute_result"
    }
   ],
   "source": [
    "nlp = spacy.load(\"en_core_web_sm\")\n",
    "nlp.pipe_names"
   ]
  },
  {
   "cell_type": "code",
   "execution_count": 6,
   "id": "34002e18-9656-40c1-9072-88b6d45b598d",
   "metadata": {},
   "outputs": [
    {
     "data": {
      "text/plain": [
       "[('tok2vec', <spacy.pipeline.tok2vec.Tok2Vec at 0x1faab298290>),\n",
       " ('tagger', <spacy.pipeline.tagger.Tagger at 0x1faa88a3470>),\n",
       " ('parser', <spacy.pipeline.dep_parser.DependencyParser at 0x1faab32d150>),\n",
       " ('attribute_ruler',\n",
       "  <spacy.pipeline.attributeruler.AttributeRuler at 0x1faaaf69d90>),\n",
       " ('lemmatizer', <spacy.lang.en.lemmatizer.EnglishLemmatizer at 0x1faab49a910>),\n",
       " ('ner', <spacy.pipeline.ner.EntityRecognizer at 0x1faab32d2a0>)]"
      ]
     },
     "execution_count": 6,
     "metadata": {},
     "output_type": "execute_result"
    }
   ],
   "source": [
    "nlp.pipeline"
   ]
  },
  {
   "cell_type": "code",
   "execution_count": 18,
   "id": "b1dd7a75-c0b3-4be1-bdd9-3ace7120ddb4",
   "metadata": {},
   "outputs": [
    {
     "name": "stdout",
     "output_type": "stream",
     "text": [
      "Captain --> proper noun --> Captain --> PROPN\n",
      "america --> proper noun --> america --> PROPN\n",
      "ate --> verb --> eat --> VERB\n",
      "100 --> numeral --> 100 --> NUM\n",
      "$ --> numeral --> $ --> NUM\n",
      "of --> adposition --> of --> ADP\n",
      "samosa --> proper noun --> samosa --> PROPN\n",
      ". --> punctuation --> . --> PUNCT\n",
      "Then --> adverb --> then --> ADV\n",
      "he --> pronoun --> he --> PRON\n",
      "said --> verb --> say --> VERB\n",
      "I --> pronoun --> I --> PRON\n",
      "can --> auxiliary --> can --> AUX\n",
      "do --> verb --> do --> VERB\n",
      "this --> pronoun --> this --> PRON\n",
      "all --> determiner --> all --> DET\n",
      "day --> noun --> day --> NOUN\n",
      "honesty --> noun --> honesty --> NOUN\n"
     ]
    }
   ],
   "source": [
    "doc = nlp(\"Captain america ate 100$ of samosa. Then he said I can do this all day honesty \")\n",
    "\n",
    "for token in doc:\n",
    "    print(token, \"-->\", spacy.explain(token.pos_), \"-->\", token.lemma_, \"-->\", token.pos_)"
   ]
  },
  {
   "cell_type": "markdown",
   "id": "ff804041-94aa-4143-9d0b-e75f95ffcac9",
   "metadata": {},
   "source": [
    "# Named Entity Recognition"
   ]
  },
  {
   "cell_type": "code",
   "execution_count": 19,
   "id": "4a0a3345-8126-496b-9823-057f2b753c6a",
   "metadata": {},
   "outputs": [
    {
     "name": "stdout",
     "output_type": "stream",
     "text": [
      "Tesla Inc --> ORG --> NOUN\n",
      "$45 billion --> MONEY --> NOUN\n"
     ]
    }
   ],
   "source": [
    "doc = nlp(\"Tesla Inc is going to acquire twitter for $45 billion\")\n",
    "\n",
    "for ent in doc.ents:\n",
    "    print(ent.text, '-->', ent.label_, '-->', token.pos_)"
   ]
  },
  {
   "cell_type": "code",
   "execution_count": 20,
   "id": "10bdc59f-5b2a-4944-addd-26df0ec9003a",
   "metadata": {},
   "outputs": [
    {
     "data": {
      "text/html": [
       "<span class=\"tex2jax_ignore\"><div class=\"entities\" style=\"line-height: 2.5; direction: ltr\">\n",
       "<mark class=\"entity\" style=\"background: #7aecec; padding: 0.45em 0.6em; margin: 0 0.25em; line-height: 1; border-radius: 0.35em;\">\n",
       "    Tesla Inc\n",
       "    <span style=\"font-size: 0.8em; font-weight: bold; line-height: 1; border-radius: 0.35em; vertical-align: middle; margin-left: 0.5rem\">ORG</span>\n",
       "</mark>\n",
       " is going to acquire twitter for \n",
       "<mark class=\"entity\" style=\"background: #e4e7d2; padding: 0.45em 0.6em; margin: 0 0.25em; line-height: 1; border-radius: 0.35em;\">\n",
       "    $45 billion\n",
       "    <span style=\"font-size: 0.8em; font-weight: bold; line-height: 1; border-radius: 0.35em; vertical-align: middle; margin-left: 0.5rem\">MONEY</span>\n",
       "</mark>\n",
       "</div></span>"
      ],
      "text/plain": [
       "<IPython.core.display.HTML object>"
      ]
     },
     "metadata": {},
     "output_type": "display_data"
    }
   ],
   "source": [
    "from spacy import displacy\n",
    "displacy.render(doc, style='ent')"
   ]
  },
  {
   "cell_type": "code",
   "execution_count": 30,
   "id": "8526330f-6e3e-417c-a0be-f214c3396e07",
   "metadata": {},
   "outputs": [
    {
     "name": "stdout",
     "output_type": "stream",
     "text": [
      "Raju | PROPN\n",
      "Paris | PROPN\n",
      "London | PROPN\n",
      "Dubai | PROPN\n",
      "Rome | PROPN\n",
      "Mohan | PROPN\n",
      "Hyderabad | PROPN\n",
      "7\n"
     ]
    },
    {
     "data": {
      "text/plain": [
       "'NOUN'"
      ]
     },
     "execution_count": 30,
     "metadata": {},
     "output_type": "execute_result"
    }
   ],
   "source": [
    "text = '''Ravi and Raju are the best friends from school days.They wanted to go for a world tour and \n",
    "visit famous cities like Paris, London, Dubai, Rome etc and also they called their another friend Mohan to take part of this world tour.\n",
    "They started their journey from Hyderabad and spent next 3 months travelling all the wonderful cities in the world and cherish a happy moments!\n",
    "'''\n",
    "\n",
    "doc = nlp(text)\n",
    "cnt=0\n",
    "for token in doc:\n",
    "    if token.pos_ == 'PROPN':\n",
    "        print(token,'|' ,token.pos_)\n",
    "        cnt+=1\n",
    "print(cnt)\n",
    "doc[0].pos_"
   ]
  },
  {
   "cell_type": "code",
   "execution_count": 36,
   "id": "da17e87e-c2ba-466f-a8ad-145aefbf1a1b",
   "metadata": {},
   "outputs": [
    {
     "name": "stdout",
     "output_type": "stream",
     "text": [
      "Tesla | ORG\n",
      "Walmart | ORG\n",
      "Amazon | ORG\n",
      "Microsoft | ORG\n",
      "Google | ORG\n",
      "Infosys | ORG\n",
      "Reliance | ORG\n",
      "HDFC Bank | ORG\n",
      "Hindustan Unilever | ORG\n",
      "Bharti Airtel | ORG\n"
     ]
    },
    {
     "data": {
      "text/plain": [
       "10"
      ]
     },
     "execution_count": 36,
     "metadata": {},
     "output_type": "execute_result"
    }
   ],
   "source": [
    "text = '''The Top 5 companies in USA are Tesla, Walmart, Amazon, Microsoft, Google and the top 5 companies in \n",
    "India are Infosys, Reliance, HDFC Bank, Hindustan Unilever and Bharti Airtel'''\n",
    "\n",
    "doc = nlp(text)\n",
    "cnt=0\n",
    "for ent in doc.ents:\n",
    "    if ent.label_ == \"ORG\":\n",
    "        print(ent, '|', ent.label_)\n",
    "        cnt+=1\n",
    "\n",
    "cnt"
   ]
  },
  {
   "cell_type": "code",
   "execution_count": null,
   "id": "a825cd5f-80ff-49ac-9c47-a497965f30a0",
   "metadata": {},
   "outputs": [],
   "source": []
  }
 ],
 "metadata": {
  "kernelspec": {
   "display_name": "Python 3 (ipykernel)",
   "language": "python",
   "name": "python3"
  },
  "language_info": {
   "codemirror_mode": {
    "name": "ipython",
    "version": 3
   },
   "file_extension": ".py",
   "mimetype": "text/x-python",
   "name": "python",
   "nbconvert_exporter": "python",
   "pygments_lexer": "ipython3",
   "version": "3.12.9"
  }
 },
 "nbformat": 4,
 "nbformat_minor": 5
}
