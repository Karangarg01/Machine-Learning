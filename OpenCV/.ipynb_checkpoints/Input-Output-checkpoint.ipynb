{
 "cells": [
  {
   "cell_type": "code",
   "execution_count": 1,
   "id": "96f583d1-121e-441e-9627-f599c673811d",
   "metadata": {},
   "outputs": [],
   "source": [
    "import os\n",
    "import cv2"
   ]
  },
  {
   "cell_type": "markdown",
   "id": "1994e8d6-9bd0-4e80-9580-09c186e1bffe",
   "metadata": {},
   "source": [
    "Reading and Displaying the image"
   ]
  },
  {
   "cell_type": "code",
   "execution_count": 9,
   "id": "dfe5705f-592b-4c01-a789-15f7f53ff769",
   "metadata": {},
   "outputs": [],
   "source": [
    "base_path = r\"C:\\Users\\karan\\OneDrive\\Desktop\"\n",
    "file_name = \"img.jpeg\"\n",
    "img_path = os.path.join(base_path, file_name)\n",
    "img = cv2.imread(img_path)\n",
    "# cv2.imshow('image',img)\n",
    "# cv2.waitKey(5000)"
   ]
  },
  {
   "cell_type": "markdown",
   "id": "fdd9c2fb-b69d-4c74-83b9-6752b4899f65",
   "metadata": {},
   "source": [
    "Saving the image"
   ]
  },
  {
   "cell_type": "code",
   "execution_count": 11,
   "id": "77a895a7-1d3b-465a-b85c-9b346cf70448",
   "metadata": {},
   "outputs": [
    {
     "data": {
      "text/plain": [
       "True"
      ]
     },
     "execution_count": 11,
     "metadata": {},
     "output_type": "execute_result"
    }
   ],
   "source": [
    "cv2.imwrite(os.path.join(base_path, 'output.jpeg'), img)"
   ]
  }
 ],
 "metadata": {
  "kernelspec": {
   "display_name": "Python 3 (ipykernel)",
   "language": "python",
   "name": "python3"
  },
  "language_info": {
   "codemirror_mode": {
    "name": "ipython",
    "version": 3
   },
   "file_extension": ".py",
   "mimetype": "text/x-python",
   "name": "python",
   "nbconvert_exporter": "python",
   "pygments_lexer": "ipython3",
   "version": "3.12.9"
  }
 },
 "nbformat": 4,
 "nbformat_minor": 5
}
