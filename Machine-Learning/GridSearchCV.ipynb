{
 "cells": [
  {
   "cell_type": "code",
   "execution_count": 1,
   "id": "154020bb-2ce4-4b11-9590-ad46d7f0c583",
   "metadata": {},
   "outputs": [],
   "source": [
    "import pandas as pd\n",
    "from sklearn.datasets import load_digits\n",
    "from sklearn import svm\n",
    "from sklearn.ensemble import RandomForestClassifier\n",
    "from sklearn.linear_model import LogisticRegression\n",
    "from sklearn.naive_bayes import GaussianNB\n",
    "from sklearn.naive_bayes import MultinomialNB\n",
    "from sklearn.tree import DecisionTreeClassifier"
   ]
  },
  {
   "cell_type": "code",
   "execution_count": 2,
   "id": "d8e2159d-0464-4ebc-9e80-7989c245a5a0",
   "metadata": {},
   "outputs": [
    {
     "data": {
      "text/plain": [
       "['DESCR', 'data', 'feature_names', 'frame', 'images', 'target', 'target_names']"
      ]
     },
     "execution_count": 2,
     "metadata": {},
     "output_type": "execute_result"
    }
   ],
   "source": [
    "digits = load_digits()\n",
    "dir(digits)"
   ]
  },
  {
   "cell_type": "code",
   "execution_count": 15,
   "id": "29211f9d-3023-4b7b-94bc-968f869f9886",
   "metadata": {},
   "outputs": [
    {
     "data": {
      "image/png": "[encoded data removed]",
      "text/plain": [
       "<Figure size 200x200 with 1 Axes>"
      ]
     },
     "metadata": {},
     "output_type": "display_data"
    },
    {
     "data": {
      "image/png": "[encoded data removed]",
      "text/plain": [
       "<Figure size 200x200 with 1 Axes>"
      ]
     },
     "metadata": {},
     "output_type": "display_data"
    },
    {
     "data": {
      "image/png": "[encoded data removed]",
      "text/plain": [
       "<Figure size 200x200 with 1 Axes>"
      ]
     },
     "metadata": {},
     "output_type": "display_data"
    },
    {
     "data": {
      "image/png": "[encoded data removed]",
      "text/plain": [
       "<Figure size 200x200 with 1 Axes>"
      ]
     },
     "metadata": {},
     "output_type": "display_data"
    },
    {
     "data": {
      "image/png": "[encoded data removed]",
      "text/plain": [
       "<Figure size 200x200 with 1 Axes>"
      ]
     },
     "metadata": {},
     "output_type": "display_data"
    }
   ],
   "source": [
    "import matplotlib.pyplot as plt\n",
    "for i in range(5):\n",
    "    plt.figure(figsize=(2,2))\n",
    "    plt.imshow(digits.images[i], cmap = 'gray')\n",
    "    plt.axis('off')\n",
    "    plt.show()"
   ]
  },
  {
   "cell_type": "code",
   "execution_count": 16,
   "id": "9fbf5b61-6267-4123-aa50-3bf41c5289a4",
   "metadata": {},
   "outputs": [],
   "source": [
    "X = digits.data\n",
    "y = digits.target"
   ]
  },
  {
   "cell_type": "code",
   "execution_count": 17,
   "id": "28625fe5-ce22-44ee-a627-d55260ef96ed",
   "metadata": {},
   "outputs": [],
   "source": [
    "from sklearn.model_selection import train_test_split\n",
    "X_train, X_test, y_train, y_test = train_test_split(X, y, test_size = 0.3)"
   ]
  },
  {
   "cell_type": "code",
   "execution_count": null,
   "id": "a138e2fd-b4d2-48aa-83aa-f306337eb18b",
   "metadata": {},
   "outputs": [],
   "source": [
    "clf = {\n",
    "\n",
    "\n",
    "    'RandomForestClassifier': (RandomForestClassifier(),{\n",
    "        'n_estimators' : [50, 100, 200]\n",
    "        }\n",
    "    'SVM' = svm.SVC(),{\n",
    "        'C': [0.1, 1, 10, 100],\n",
    "        'kernel' : ['linear', 'rbf', 'poly']\n",
    "}\n",
    "    'Logistic Regression' = LogisticRegression(),{\n",
    "\n",
    "        \n",
    "    }\n",
    "    'Decision Tree' = DecisionTree(),{\n",
    "\n",
    "        \n",
    "    }\n",
    "    'Gaussian NB' = GaussianNB(),{\n",
    "\n",
    "        \n",
    "    }\n",
    "    'Multinomial NB' = MultinomialNB(), {\n",
    "\n",
    "\n",
    "        \n",
    "    }\n",
    "\n",
    "\n",
    "\n",
    "\n",
    "}"
   ]
  }
 ],
 "metadata": {
  "kernelspec": {
   "display_name": "Python 3 (ipykernel)",
   "language": "python",
   "name": "python3"
  },
  "language_info": {
   "codemirror_mode": {
    "name": "ipython",
    "version": 3
   },
   "file_extension": ".py",
   "mimetype": "text/x-python",
   "name": "python",
   "nbconvert_exporter": "python",
   "pygments_lexer": "ipython3",
   "version": "3.12.9"
  }
 },
 "nbformat": 4,
 "nbformat_minor": 5
}
