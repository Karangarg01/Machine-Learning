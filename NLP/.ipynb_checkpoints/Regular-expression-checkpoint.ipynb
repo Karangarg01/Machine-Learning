{
 "cells": [
  {
   "cell_type": "code",
   "execution_count": 1,
   "id": "fd4601a5-0816-4910-b44f-2b33e4d625a0",
   "metadata": {},
   "outputs": [],
   "source": [
    "import re"
   ]
  },
  {
   "cell_type": "code",
   "execution_count": 8,
   "id": "e7b4fc99-d5bd-4648-88bc-3cb6238b446e",
   "metadata": {},
   "outputs": [
    {
     "data": {
      "text/plain": [
       "'hello'"
      ]
     },
     "execution_count": 8,
     "metadata": {},
     "output_type": "execute_result"
    }
   ],
   "source": [
    "text = \"hello world\"\n",
    "match = re.match(\"hello\", text)\n",
    "match.group()"
   ]
  },
  {
   "cell_type": "markdown",
   "id": "c5fdcf31-ecb3-4e3c-b630-26a59bbadbe1",
   "metadata": {},
   "source": [
    "## Print Digits"
   ]
  },
  {
   "cell_type": "code",
   "execution_count": 13,
   "id": "e55cb73f-646f-470a-86cf-370183bb6313",
   "metadata": {},
   "outputs": [
    {
     "data": {
      "text/plain": [
       "['100', '123', '456', '7890']"
      ]
     },
     "execution_count": 13,
     "metadata": {},
     "output_type": "execute_result"
    }
   ],
   "source": [
    "text = \"The price is 100 dollars My phone number is 123-456-7890\"\n",
    "dig = re.findall(r'\\d+', text)\n",
    "dig"
   ]
  },
  {
   "cell_type": "markdown",
   "id": "819f169b-164a-4141-9eba-18eb0254fa80",
   "metadata": {},
   "source": [
    "## Emails"
   ]
  },
  {
   "cell_type": "code",
   "execution_count": 17,
   "id": "5a5c16e1-913d-4dbd-bc50-5f77877ef7f3",
   "metadata": {},
   "outputs": [
    {
     "name": "stdout",
     "output_type": "stream",
     "text": [
      "['john.doe@example.com', 'contact@company.org', 'joe123@mail.com']\n"
     ]
    }
   ],
   "source": [
    "import re\n",
    "\n",
    "text = \"John's email is john.doe@example.com, contact@company.org is another one, and joe123@mail.com\"\n",
    "emails = re.findall(r\"[\\w\\.-]+@[\\w\\.-]+\", text)\n",
    "print(emails)\n"
   ]
  },
  {
   "cell_type": "markdown",
   "id": "69a68adb-eb97-44bb-b618-06731e01b7a2",
   "metadata": {},
   "source": [
    "## Website Urls"
   ]
  },
  {
   "cell_type": "code",
   "execution_count": 46,
   "id": "e63ee13d-76c0-4922-89f3-b76ba5e182ae",
   "metadata": {},
   "outputs": [
    {
     "data": {
      "text/plain": [
       "['https://www.example.com', 'http://blog.site.net']"
      ]
     },
     "execution_count": 46,
     "metadata": {},
     "output_type": "execute_result"
    }
   ],
   "source": [
    "text = \"Visit https://www.example.com or http://blog.site.net for info.\"\n",
    "\n",
    "pattern = r\"https?://[\\w\\.]+\"                # r --> raw string\n",
    "urls = re.findall(pattern, text) \n",
    "urls"
   ]
  },
  {
   "cell_type": "code",
   "execution_count": null,
   "id": "89eeb2d4-6354-4af7-8152-3c94721efa40",
   "metadata": {},
   "outputs": [],
   "source": []
  }
 ],
 "metadata": {
  "kernelspec": {
   "display_name": "Python 3 (ipykernel)",
   "language": "python",
   "name": "python3"
  },
  "language_info": {
   "codemirror_mode": {
    "name": "ipython",
    "version": 3
   },
   "file_extension": ".py",
   "mimetype": "text/x-python",
   "name": "python",
   "nbconvert_exporter": "python",
   "pygments_lexer": "ipython3",
   "version": "3.12.9"
  }
 },
 "nbformat": 4,
 "nbformat_minor": 5
}
